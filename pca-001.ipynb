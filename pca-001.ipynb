{
 "cells": [
  {
   "cell_type": "code",
   "execution_count": 1,
   "metadata": {
    "_cell_guid": "b1076dfc-b9ad-4769-8c92-a6c4dae69d19",
    "_uuid": "8f2839f25d086af736a60e9eeb907d3b93b6e0e5",
    "execution": {
     "iopub.execute_input": "2022-05-30T12:49:31.858219Z",
     "iopub.status.busy": "2022-05-30T12:49:31.857747Z",
     "iopub.status.idle": "2022-05-30T12:49:31.867833Z",
     "shell.execute_reply": "2022-05-30T12:49:31.866894Z",
     "shell.execute_reply.started": "2022-05-30T12:49:31.85818Z"
    }
   },
   "outputs": [],
   "source": [
    "\n",
    "import numpy as np\n",
    "import pandas as pd \n"
   ]
  },
  {
   "cell_type": "code",
   "execution_count": 2,
   "metadata": {
    "execution": {
     "iopub.execute_input": "2022-05-30T12:49:32.018451Z",
     "iopub.status.busy": "2022-05-30T12:49:32.017878Z",
     "iopub.status.idle": "2022-05-30T12:49:34.843477Z",
     "shell.execute_reply": "2022-05-30T12:49:34.842744Z",
     "shell.execute_reply.started": "2022-05-30T12:49:32.0184Z"
    }
   },
   "outputs": [],
   "source": [
    "df = pd.read_csv('digit-recognizer/train.csv')"
   ]
  },
  {
   "cell_type": "code",
   "execution_count": 3,
   "metadata": {
    "execution": {
     "iopub.execute_input": "2022-05-30T12:49:34.845759Z",
     "iopub.status.busy": "2022-05-30T12:49:34.845175Z",
     "iopub.status.idle": "2022-05-30T12:49:34.851758Z",
     "shell.execute_reply": "2022-05-30T12:49:34.850915Z",
     "shell.execute_reply.started": "2022-05-30T12:49:34.845716Z"
    }
   },
   "outputs": [
    {
     "data": {
      "text/plain": [
       "(42000, 785)"
      ]
     },
     "execution_count": 3,
     "metadata": {},
     "output_type": "execute_result"
    }
   ],
   "source": [
    "df.shape"
   ]
  },
  {
   "cell_type": "code",
   "execution_count": 4,
   "metadata": {
    "execution": {
     "iopub.execute_input": "2022-05-30T12:49:34.853791Z",
     "iopub.status.busy": "2022-05-30T12:49:34.853185Z",
     "iopub.status.idle": "2022-05-30T12:49:34.878768Z",
     "shell.execute_reply": "2022-05-30T12:49:34.877754Z",
     "shell.execute_reply.started": "2022-05-30T12:49:34.853741Z"
    }
   },
   "outputs": [
    {
     "data": {
      "text/html": [
       "<div>\n",
       "<style scoped>\n",
       "    .dataframe tbody tr th:only-of-type {\n",
       "        vertical-align: middle;\n",
       "    }\n",
       "\n",
       "    .dataframe tbody tr th {\n",
       "        vertical-align: top;\n",
       "    }\n",
       "\n",
       "    .dataframe thead th {\n",
       "        text-align: right;\n",
       "    }\n",
       "</style>\n",
       "<table border=\"1\" class=\"dataframe\">\n",
       "  <thead>\n",
       "    <tr style=\"text-align: right;\">\n",
       "      <th></th>\n",
       "      <th>label</th>\n",
       "      <th>pixel0</th>\n",
       "      <th>pixel1</th>\n",
       "      <th>pixel2</th>\n",
       "      <th>pixel3</th>\n",
       "      <th>pixel4</th>\n",
       "      <th>pixel5</th>\n",
       "      <th>pixel6</th>\n",
       "      <th>pixel7</th>\n",
       "      <th>pixel8</th>\n",
       "      <th>...</th>\n",
       "      <th>pixel774</th>\n",
       "      <th>pixel775</th>\n",
       "      <th>pixel776</th>\n",
       "      <th>pixel777</th>\n",
       "      <th>pixel778</th>\n",
       "      <th>pixel779</th>\n",
       "      <th>pixel780</th>\n",
       "      <th>pixel781</th>\n",
       "      <th>pixel782</th>\n",
       "      <th>pixel783</th>\n",
       "    </tr>\n",
       "  </thead>\n",
       "  <tbody>\n",
       "    <tr>\n",
       "      <th>35812</th>\n",
       "      <td>7</td>\n",
       "      <td>0</td>\n",
       "      <td>0</td>\n",
       "      <td>0</td>\n",
       "      <td>0</td>\n",
       "      <td>0</td>\n",
       "      <td>0</td>\n",
       "      <td>0</td>\n",
       "      <td>0</td>\n",
       "      <td>0</td>\n",
       "      <td>...</td>\n",
       "      <td>0</td>\n",
       "      <td>0</td>\n",
       "      <td>0</td>\n",
       "      <td>0</td>\n",
       "      <td>0</td>\n",
       "      <td>0</td>\n",
       "      <td>0</td>\n",
       "      <td>0</td>\n",
       "      <td>0</td>\n",
       "      <td>0</td>\n",
       "    </tr>\n",
       "    <tr>\n",
       "      <th>19507</th>\n",
       "      <td>2</td>\n",
       "      <td>0</td>\n",
       "      <td>0</td>\n",
       "      <td>0</td>\n",
       "      <td>0</td>\n",
       "      <td>0</td>\n",
       "      <td>0</td>\n",
       "      <td>0</td>\n",
       "      <td>0</td>\n",
       "      <td>0</td>\n",
       "      <td>...</td>\n",
       "      <td>0</td>\n",
       "      <td>0</td>\n",
       "      <td>0</td>\n",
       "      <td>0</td>\n",
       "      <td>0</td>\n",
       "      <td>0</td>\n",
       "      <td>0</td>\n",
       "      <td>0</td>\n",
       "      <td>0</td>\n",
       "      <td>0</td>\n",
       "    </tr>\n",
       "    <tr>\n",
       "      <th>37958</th>\n",
       "      <td>0</td>\n",
       "      <td>0</td>\n",
       "      <td>0</td>\n",
       "      <td>0</td>\n",
       "      <td>0</td>\n",
       "      <td>0</td>\n",
       "      <td>0</td>\n",
       "      <td>0</td>\n",
       "      <td>0</td>\n",
       "      <td>0</td>\n",
       "      <td>...</td>\n",
       "      <td>0</td>\n",
       "      <td>0</td>\n",
       "      <td>0</td>\n",
       "      <td>0</td>\n",
       "      <td>0</td>\n",
       "      <td>0</td>\n",
       "      <td>0</td>\n",
       "      <td>0</td>\n",
       "      <td>0</td>\n",
       "      <td>0</td>\n",
       "    </tr>\n",
       "    <tr>\n",
       "      <th>1335</th>\n",
       "      <td>8</td>\n",
       "      <td>0</td>\n",
       "      <td>0</td>\n",
       "      <td>0</td>\n",
       "      <td>0</td>\n",
       "      <td>0</td>\n",
       "      <td>0</td>\n",
       "      <td>0</td>\n",
       "      <td>0</td>\n",
       "      <td>0</td>\n",
       "      <td>...</td>\n",
       "      <td>0</td>\n",
       "      <td>0</td>\n",
       "      <td>0</td>\n",
       "      <td>0</td>\n",
       "      <td>0</td>\n",
       "      <td>0</td>\n",
       "      <td>0</td>\n",
       "      <td>0</td>\n",
       "      <td>0</td>\n",
       "      <td>0</td>\n",
       "    </tr>\n",
       "    <tr>\n",
       "      <th>22862</th>\n",
       "      <td>0</td>\n",
       "      <td>0</td>\n",
       "      <td>0</td>\n",
       "      <td>0</td>\n",
       "      <td>0</td>\n",
       "      <td>0</td>\n",
       "      <td>0</td>\n",
       "      <td>0</td>\n",
       "      <td>0</td>\n",
       "      <td>0</td>\n",
       "      <td>...</td>\n",
       "      <td>0</td>\n",
       "      <td>0</td>\n",
       "      <td>0</td>\n",
       "      <td>0</td>\n",
       "      <td>0</td>\n",
       "      <td>0</td>\n",
       "      <td>0</td>\n",
       "      <td>0</td>\n",
       "      <td>0</td>\n",
       "      <td>0</td>\n",
       "    </tr>\n",
       "  </tbody>\n",
       "</table>\n",
       "<p>5 rows × 785 columns</p>\n",
       "</div>"
      ],
      "text/plain": [
       "       label  pixel0  pixel1  pixel2  pixel3  pixel4  pixel5  pixel6  pixel7  \\\n",
       "35812      7       0       0       0       0       0       0       0       0   \n",
       "19507      2       0       0       0       0       0       0       0       0   \n",
       "37958      0       0       0       0       0       0       0       0       0   \n",
       "1335       8       0       0       0       0       0       0       0       0   \n",
       "22862      0       0       0       0       0       0       0       0       0   \n",
       "\n",
       "       pixel8  ...  pixel774  pixel775  pixel776  pixel777  pixel778  \\\n",
       "35812       0  ...         0         0         0         0         0   \n",
       "19507       0  ...         0         0         0         0         0   \n",
       "37958       0  ...         0         0         0         0         0   \n",
       "1335        0  ...         0         0         0         0         0   \n",
       "22862       0  ...         0         0         0         0         0   \n",
       "\n",
       "       pixel779  pixel780  pixel781  pixel782  pixel783  \n",
       "35812         0         0         0         0         0  \n",
       "19507         0         0         0         0         0  \n",
       "37958         0         0         0         0         0  \n",
       "1335          0         0         0         0         0  \n",
       "22862         0         0         0         0         0  \n",
       "\n",
       "[5 rows x 785 columns]"
      ]
     },
     "execution_count": 4,
     "metadata": {},
     "output_type": "execute_result"
    }
   ],
   "source": [
    "df.sample(5)"
   ]
  },
  {
   "cell_type": "code",
   "execution_count": 5,
   "metadata": {
    "execution": {
     "iopub.execute_input": "2022-05-30T12:49:34.882313Z",
     "iopub.status.busy": "2022-05-30T12:49:34.881796Z",
     "iopub.status.idle": "2022-05-30T12:49:34.886633Z",
     "shell.execute_reply": "2022-05-30T12:49:34.885514Z",
     "shell.execute_reply.started": "2022-05-30T12:49:34.882267Z"
    }
   },
   "outputs": [],
   "source": [
    "import matplotlib.pyplot as plt"
   ]
  },
  {
   "cell_type": "code",
   "execution_count": 6,
   "metadata": {
    "execution": {
     "iopub.execute_input": "2022-05-30T12:49:34.888902Z",
     "iopub.status.busy": "2022-05-30T12:49:34.888241Z",
     "iopub.status.idle": "2022-05-30T12:49:35.068576Z",
     "shell.execute_reply": "2022-05-30T12:49:35.067647Z",
     "shell.execute_reply.started": "2022-05-30T12:49:34.888856Z"
    }
   },
   "outputs": [
    {
     "data": {
      "text/plain": [
       "<matplotlib.image.AxesImage at 0x1e9b9b9cf10>"
      ]
     },
     "execution_count": 6,
     "metadata": {},
     "output_type": "execute_result"
    },
    {
     "data": {
      "image/png": "[encoded data removed]",
      "text/plain": [
       "<Figure size 432x288 with 1 Axes>"
      ]
     },
     "metadata": {
      "needs_background": "light"
     },
     "output_type": "display_data"
    }
   ],
   "source": [
    "plt.imshow(df.iloc[13051,1:].values.reshape(28,28))"
   ]
  },
  {
   "cell_type": "code",
   "execution_count": 7,
   "metadata": {
    "execution": {
     "iopub.execute_input": "2022-05-30T12:49:35.070758Z",
     "iopub.status.busy": "2022-05-30T12:49:35.070145Z",
     "iopub.status.idle": "2022-05-30T12:49:35.076438Z",
     "shell.execute_reply": "2022-05-30T12:49:35.075576Z",
     "shell.execute_reply.started": "2022-05-30T12:49:35.070711Z"
    }
   },
   "outputs": [],
   "source": [
    "X= df.iloc[:,1:]\n",
    "y = df.iloc[:,0]"
   ]
  },
  {
   "cell_type": "code",
   "execution_count": 8,
   "metadata": {
    "execution": {
     "iopub.execute_input": "2022-05-30T12:49:35.078489Z",
     "iopub.status.busy": "2022-05-30T12:49:35.078069Z",
     "iopub.status.idle": "2022-05-30T12:49:35.10794Z",
     "shell.execute_reply": "2022-05-30T12:49:35.106984Z",
     "shell.execute_reply.started": "2022-05-30T12:49:35.078449Z"
    }
   },
   "outputs": [
    {
     "data": {
      "text/html": [
       "<div>\n",
       "<style scoped>\n",
       "    .dataframe tbody tr th:only-of-type {\n",
       "        vertical-align: middle;\n",
       "    }\n",
       "\n",
       "    .dataframe tbody tr th {\n",
       "        vertical-align: top;\n",
       "    }\n",
       "\n",
       "    .dataframe thead th {\n",
       "        text-align: right;\n",
       "    }\n",
       "</style>\n",
       "<table border=\"1\" class=\"dataframe\">\n",
       "  <thead>\n",
       "    <tr style=\"text-align: right;\">\n",
       "      <th></th>\n",
       "      <th>pixel0</th>\n",
       "      <th>pixel1</th>\n",
       "      <th>pixel2</th>\n",
       "      <th>pixel3</th>\n",
       "      <th>pixel4</th>\n",
       "      <th>pixel5</th>\n",
       "      <th>pixel6</th>\n",
       "      <th>pixel7</th>\n",
       "      <th>pixel8</th>\n",
       "      <th>pixel9</th>\n",
       "      <th>...</th>\n",
       "      <th>pixel774</th>\n",
       "      <th>pixel775</th>\n",
       "      <th>pixel776</th>\n",
       "      <th>pixel777</th>\n",
       "      <th>pixel778</th>\n",
       "      <th>pixel779</th>\n",
       "      <th>pixel780</th>\n",
       "      <th>pixel781</th>\n",
       "      <th>pixel782</th>\n",
       "      <th>pixel783</th>\n",
       "    </tr>\n",
       "  </thead>\n",
       "  <tbody>\n",
       "    <tr>\n",
       "      <th>0</th>\n",
       "      <td>0</td>\n",
       "      <td>0</td>\n",
       "      <td>0</td>\n",
       "      <td>0</td>\n",
       "      <td>0</td>\n",
       "      <td>0</td>\n",
       "      <td>0</td>\n",
       "      <td>0</td>\n",
       "      <td>0</td>\n",
       "      <td>0</td>\n",
       "      <td>...</td>\n",
       "      <td>0</td>\n",
       "      <td>0</td>\n",
       "      <td>0</td>\n",
       "      <td>0</td>\n",
       "      <td>0</td>\n",
       "      <td>0</td>\n",
       "      <td>0</td>\n",
       "      <td>0</td>\n",
       "      <td>0</td>\n",
       "      <td>0</td>\n",
       "    </tr>\n",
       "    <tr>\n",
       "      <th>1</th>\n",
       "      <td>0</td>\n",
       "      <td>0</td>\n",
       "      <td>0</td>\n",
       "      <td>0</td>\n",
       "      <td>0</td>\n",
       "      <td>0</td>\n",
       "      <td>0</td>\n",
       "      <td>0</td>\n",
       "      <td>0</td>\n",
       "      <td>0</td>\n",
       "      <td>...</td>\n",
       "      <td>0</td>\n",
       "      <td>0</td>\n",
       "      <td>0</td>\n",
       "      <td>0</td>\n",
       "      <td>0</td>\n",
       "      <td>0</td>\n",
       "      <td>0</td>\n",
       "      <td>0</td>\n",
       "      <td>0</td>\n",
       "      <td>0</td>\n",
       "    </tr>\n",
       "    <tr>\n",
       "      <th>2</th>\n",
       "      <td>0</td>\n",
       "      <td>0</td>\n",
       "      <td>0</td>\n",
       "      <td>0</td>\n",
       "      <td>0</td>\n",
       "      <td>0</td>\n",
       "      <td>0</td>\n",
       "      <td>0</td>\n",
       "      <td>0</td>\n",
       "      <td>0</td>\n",
       "      <td>...</td>\n",
       "      <td>0</td>\n",
       "      <td>0</td>\n",
       "      <td>0</td>\n",
       "      <td>0</td>\n",
       "      <td>0</td>\n",
       "      <td>0</td>\n",
       "      <td>0</td>\n",
       "      <td>0</td>\n",
       "      <td>0</td>\n",
       "      <td>0</td>\n",
       "    </tr>\n",
       "    <tr>\n",
       "      <th>3</th>\n",
       "      <td>0</td>\n",
       "      <td>0</td>\n",
       "      <td>0</td>\n",
       "      <td>0</td>\n",
       "      <td>0</td>\n",
       "      <td>0</td>\n",
       "      <td>0</td>\n",
       "      <td>0</td>\n",
       "      <td>0</td>\n",
       "      <td>0</td>\n",
       "      <td>...</td>\n",
       "      <td>0</td>\n",
       "      <td>0</td>\n",
       "      <td>0</td>\n",
       "      <td>0</td>\n",
       "      <td>0</td>\n",
       "      <td>0</td>\n",
       "      <td>0</td>\n",
       "      <td>0</td>\n",
       "      <td>0</td>\n",
       "      <td>0</td>\n",
       "    </tr>\n",
       "    <tr>\n",
       "      <th>4</th>\n",
       "      <td>0</td>\n",
       "      <td>0</td>\n",
       "      <td>0</td>\n",
       "      <td>0</td>\n",
       "      <td>0</td>\n",
       "      <td>0</td>\n",
       "      <td>0</td>\n",
       "      <td>0</td>\n",
       "      <td>0</td>\n",
       "      <td>0</td>\n",
       "      <td>...</td>\n",
       "      <td>0</td>\n",
       "      <td>0</td>\n",
       "      <td>0</td>\n",
       "      <td>0</td>\n",
       "      <td>0</td>\n",
       "      <td>0</td>\n",
       "      <td>0</td>\n",
       "      <td>0</td>\n",
       "      <td>0</td>\n",
       "      <td>0</td>\n",
       "    </tr>\n",
       "    <tr>\n",
       "      <th>...</th>\n",
       "      <td>...</td>\n",
       "      <td>...</td>\n",
       "      <td>...</td>\n",
       "      <td>...</td>\n",
       "      <td>...</td>\n",
       "      <td>...</td>\n",
       "      <td>...</td>\n",
       "      <td>...</td>\n",
       "      <td>...</td>\n",
       "      <td>...</td>\n",
       "      <td>...</td>\n",
       "      <td>...</td>\n",
       "      <td>...</td>\n",
       "      <td>...</td>\n",
       "      <td>...</td>\n",
       "      <td>...</td>\n",
       "      <td>...</td>\n",
       "      <td>...</td>\n",
       "      <td>...</td>\n",
       "      <td>...</td>\n",
       "      <td>...</td>\n",
       "    </tr>\n",
       "    <tr>\n",
       "      <th>41995</th>\n",
       "      <td>0</td>\n",
       "      <td>0</td>\n",
       "      <td>0</td>\n",
       "      <td>0</td>\n",
       "      <td>0</td>\n",
       "      <td>0</td>\n",
       "      <td>0</td>\n",
       "      <td>0</td>\n",
       "      <td>0</td>\n",
       "      <td>0</td>\n",
       "      <td>...</td>\n",
       "      <td>0</td>\n",
       "      <td>0</td>\n",
       "      <td>0</td>\n",
       "      <td>0</td>\n",
       "      <td>0</td>\n",
       "      <td>0</td>\n",
       "      <td>0</td>\n",
       "      <td>0</td>\n",
       "      <td>0</td>\n",
       "      <td>0</td>\n",
       "    </tr>\n",
       "    <tr>\n",
       "      <th>41996</th>\n",
       "      <td>0</td>\n",
       "      <td>0</td>\n",
       "      <td>0</td>\n",
       "      <td>0</td>\n",
       "      <td>0</td>\n",
       "      <td>0</td>\n",
       "      <td>0</td>\n",
       "      <td>0</td>\n",
       "      <td>0</td>\n",
       "      <td>0</td>\n",
       "      <td>...</td>\n",
       "      <td>0</td>\n",
       "      <td>0</td>\n",
       "      <td>0</td>\n",
       "      <td>0</td>\n",
       "      <td>0</td>\n",
       "      <td>0</td>\n",
       "      <td>0</td>\n",
       "      <td>0</td>\n",
       "      <td>0</td>\n",
       "      <td>0</td>\n",
       "    </tr>\n",
       "    <tr>\n",
       "      <th>41997</th>\n",
       "      <td>0</td>\n",
       "      <td>0</td>\n",
       "      <td>0</td>\n",
       "      <td>0</td>\n",
       "      <td>0</td>\n",
       "      <td>0</td>\n",
       "      <td>0</td>\n",
       "      <td>0</td>\n",
       "      <td>0</td>\n",
       "      <td>0</td>\n",
       "      <td>...</td>\n",
       "      <td>0</td>\n",
       "      <td>0</td>\n",
       "      <td>0</td>\n",
       "      <td>0</td>\n",
       "      <td>0</td>\n",
       "      <td>0</td>\n",
       "      <td>0</td>\n",
       "      <td>0</td>\n",
       "      <td>0</td>\n",
       "      <td>0</td>\n",
       "    </tr>\n",
       "    <tr>\n",
       "      <th>41998</th>\n",
       "      <td>0</td>\n",
       "      <td>0</td>\n",
       "      <td>0</td>\n",
       "      <td>0</td>\n",
       "      <td>0</td>\n",
       "      <td>0</td>\n",
       "      <td>0</td>\n",
       "      <td>0</td>\n",
       "      <td>0</td>\n",
       "      <td>0</td>\n",
       "      <td>...</td>\n",
       "      <td>0</td>\n",
       "      <td>0</td>\n",
       "      <td>0</td>\n",
       "      <td>0</td>\n",
       "      <td>0</td>\n",
       "      <td>0</td>\n",
       "      <td>0</td>\n",
       "      <td>0</td>\n",
       "      <td>0</td>\n",
       "      <td>0</td>\n",
       "    </tr>\n",
       "    <tr>\n",
       "      <th>41999</th>\n",
       "      <td>0</td>\n",
       "      <td>0</td>\n",
       "      <td>0</td>\n",
       "      <td>0</td>\n",
       "      <td>0</td>\n",
       "      <td>0</td>\n",
       "      <td>0</td>\n",
       "      <td>0</td>\n",
       "      <td>0</td>\n",
       "      <td>0</td>\n",
       "      <td>...</td>\n",
       "      <td>0</td>\n",
       "      <td>0</td>\n",
       "      <td>0</td>\n",
       "      <td>0</td>\n",
       "      <td>0</td>\n",
       "      <td>0</td>\n",
       "      <td>0</td>\n",
       "      <td>0</td>\n",
       "      <td>0</td>\n",
       "      <td>0</td>\n",
       "    </tr>\n",
       "  </tbody>\n",
       "</table>\n",
       "<p>42000 rows × 784 columns</p>\n",
       "</div>"
      ],
      "text/plain": [
       "       pixel0  pixel1  pixel2  pixel3  pixel4  pixel5  pixel6  pixel7  pixel8  \\\n",
       "0           0       0       0       0       0       0       0       0       0   \n",
       "1           0       0       0       0       0       0       0       0       0   \n",
       "2           0       0       0       0       0       0       0       0       0   \n",
       "3           0       0       0       0       0       0       0       0       0   \n",
       "4           0       0       0       0       0       0       0       0       0   \n",
       "...       ...     ...     ...     ...     ...     ...     ...     ...     ...   \n",
       "41995       0       0       0       0       0       0       0       0       0   \n",
       "41996       0       0       0       0       0       0       0       0       0   \n",
       "41997       0       0       0       0       0       0       0       0       0   \n",
       "41998       0       0       0       0       0       0       0       0       0   \n",
       "41999       0       0       0       0       0       0       0       0       0   \n",
       "\n",
       "       pixel9  ...  pixel774  pixel775  pixel776  pixel777  pixel778  \\\n",
       "0           0  ...         0         0         0         0         0   \n",
       "1           0  ...         0         0         0         0         0   \n",
       "2           0  ...         0         0         0         0         0   \n",
       "3           0  ...         0         0         0         0         0   \n",
       "4           0  ...         0         0         0         0         0   \n",
       "...       ...  ...       ...       ...       ...       ...       ...   \n",
       "41995       0  ...         0         0         0         0         0   \n",
       "41996       0  ...         0         0         0         0         0   \n",
       "41997       0  ...         0         0         0         0         0   \n",
       "41998       0  ...         0         0         0         0         0   \n",
       "41999       0  ...         0         0         0         0         0   \n",
       "\n",
       "       pixel779  pixel780  pixel781  pixel782  pixel783  \n",
       "0             0         0         0         0         0  \n",
       "1             0         0         0         0         0  \n",
       "2             0         0         0         0         0  \n",
       "3             0         0         0         0         0  \n",
       "4             0         0         0         0         0  \n",
       "...         ...       ...       ...       ...       ...  \n",
       "41995         0         0         0         0         0  \n",
       "41996         0         0         0         0         0  \n",
       "41997         0         0         0         0         0  \n",
       "41998         0         0         0         0         0  \n",
       "41999         0         0         0         0         0  \n",
       "\n",
       "[42000 rows x 784 columns]"
      ]
     },
     "execution_count": 8,
     "metadata": {},
     "output_type": "execute_result"
    }
   ],
   "source": [
    "X"
   ]
  },
  {
   "cell_type": "code",
   "execution_count": 9,
   "metadata": {
    "execution": {
     "iopub.execute_input": "2022-05-30T12:49:35.109989Z",
     "iopub.status.busy": "2022-05-30T12:49:35.109552Z",
     "iopub.status.idle": "2022-05-30T12:49:35.362614Z",
     "shell.execute_reply": "2022-05-30T12:49:35.361589Z",
     "shell.execute_reply.started": "2022-05-30T12:49:35.109947Z"
    }
   },
   "outputs": [],
   "source": [
    "from sklearn.model_selection import train_test_split\n",
    "X_train,X_test,y_train,y_test = train_test_split(X,y,test_size=0.2,random_state=42)"
   ]
  },
  {
   "cell_type": "code",
   "execution_count": 10,
   "metadata": {
    "execution": {
     "iopub.execute_input": "2022-05-30T12:49:35.364141Z",
     "iopub.status.busy": "2022-05-30T12:49:35.363824Z",
     "iopub.status.idle": "2022-05-30T12:49:35.370083Z",
     "shell.execute_reply": "2022-05-30T12:49:35.369339Z",
     "shell.execute_reply.started": "2022-05-30T12:49:35.364112Z"
    }
   },
   "outputs": [
    {
     "data": {
      "text/plain": [
       "(33600, 784)"
      ]
     },
     "execution_count": 10,
     "metadata": {},
     "output_type": "execute_result"
    }
   ],
   "source": [
    "X_train.shape"
   ]
  },
  {
   "cell_type": "code",
   "execution_count": 11,
   "metadata": {
    "execution": {
     "iopub.execute_input": "2022-05-30T12:49:35.373662Z",
     "iopub.status.busy": "2022-05-30T12:49:35.372826Z",
     "iopub.status.idle": "2022-05-30T12:49:35.383372Z",
     "shell.execute_reply": "2022-05-30T12:49:35.382618Z",
     "shell.execute_reply.started": "2022-05-30T12:49:35.373623Z"
    }
   },
   "outputs": [
    {
     "data": {
      "text/plain": [
       "(8400, 784)"
      ]
     },
     "execution_count": 11,
     "metadata": {},
     "output_type": "execute_result"
    }
   ],
   "source": [
    "X_test.shape"
   ]
  },
  {
   "cell_type": "code",
   "execution_count": 12,
   "metadata": {
    "execution": {
     "iopub.execute_input": "2022-05-30T12:49:35.385324Z",
     "iopub.status.busy": "2022-05-30T12:49:35.384315Z",
     "iopub.status.idle": "2022-05-30T12:49:35.394169Z",
     "shell.execute_reply": "2022-05-30T12:49:35.393341Z",
     "shell.execute_reply.started": "2022-05-30T12:49:35.385269Z"
    }
   },
   "outputs": [],
   "source": [
    "from sklearn.neighbors import KNeighborsClassifier"
   ]
  },
  {
   "cell_type": "code",
   "execution_count": 13,
   "metadata": {
    "execution": {
     "iopub.execute_input": "2022-05-30T12:49:35.395787Z",
     "iopub.status.busy": "2022-05-30T12:49:35.395386Z",
     "iopub.status.idle": "2022-05-30T12:49:35.406288Z",
     "shell.execute_reply": "2022-05-30T12:49:35.405225Z",
     "shell.execute_reply.started": "2022-05-30T12:49:35.395753Z"
    }
   },
   "outputs": [],
   "source": [
    "knn = KNeighborsClassifier()"
   ]
  },
  {
   "cell_type": "code",
   "execution_count": 14,
   "metadata": {
    "execution": {
     "iopub.execute_input": "2022-05-30T12:49:35.408217Z",
     "iopub.status.busy": "2022-05-30T12:49:35.40777Z",
     "iopub.status.idle": "2022-05-30T12:49:35.431485Z",
     "shell.execute_reply": "2022-05-30T12:49:35.430736Z",
     "shell.execute_reply.started": "2022-05-30T12:49:35.40817Z"
    }
   },
   "outputs": [
    {
     "data": {
      "text/plain": [
       "KNeighborsClassifier()"
      ]
     },
     "execution_count": 14,
     "metadata": {},
     "output_type": "execute_result"
    }
   ],
   "source": [
    "knn.fit(X_train,y_train)"
   ]
  },
  {
   "cell_type": "code",
   "execution_count": 15,
   "metadata": {
    "execution": {
     "iopub.execute_input": "2022-05-30T12:49:35.433272Z",
     "iopub.status.busy": "2022-05-30T12:49:35.432912Z",
     "iopub.status.idle": "2022-05-30T12:49:48.917558Z",
     "shell.execute_reply": "2022-05-30T12:49:48.916455Z",
     "shell.execute_reply.started": "2022-05-30T12:49:35.433234Z"
    }
   },
   "outputs": [
    {
     "name": "stdout",
     "output_type": "stream",
     "text": [
      "24.437909364700317\n"
     ]
    }
   ],
   "source": [
    "import time\n",
    "start = time.time()\n",
    "y_pred = knn.predict(X_test)\n",
    "\n",
    "print(time.time()-start)"
   ]
  },
  {
   "cell_type": "code",
   "execution_count": 16,
   "metadata": {
    "execution": {
     "iopub.execute_input": "2022-05-30T12:49:48.920152Z",
     "iopub.status.busy": "2022-05-30T12:49:48.919266Z",
     "iopub.status.idle": "2022-05-30T12:49:48.928249Z",
     "shell.execute_reply": "2022-05-30T12:49:48.927192Z",
     "shell.execute_reply.started": "2022-05-30T12:49:48.920104Z"
    }
   },
   "outputs": [
    {
     "data": {
      "text/plain": [
       "0.9648809523809524"
      ]
     },
     "execution_count": 16,
     "metadata": {},
     "output_type": "execute_result"
    }
   ],
   "source": [
    "from sklearn.metrics import accuracy_score\n",
    "accuracy_score(y_test,y_pred)"
   ]
  },
  {
   "cell_type": "code",
   "execution_count": 17,
   "metadata": {
    "execution": {
     "iopub.execute_input": "2022-05-30T12:49:48.929619Z",
     "iopub.status.busy": "2022-05-30T12:49:48.929328Z",
     "iopub.status.idle": "2022-05-30T12:49:48.938966Z",
     "shell.execute_reply": "2022-05-30T12:49:48.937855Z",
     "shell.execute_reply.started": "2022-05-30T12:49:48.929592Z"
    }
   },
   "outputs": [],
   "source": [
    "from sklearn.preprocessing import  StandardScaler\n",
    "scaler = StandardScaler()"
   ]
  },
  {
   "cell_type": "code",
   "execution_count": 18,
   "metadata": {
    "execution": {
     "iopub.execute_input": "2022-05-30T12:49:48.941008Z",
     "iopub.status.busy": "2022-05-30T12:49:48.940255Z",
     "iopub.status.idle": "2022-05-30T12:49:49.421663Z",
     "shell.execute_reply": "2022-05-30T12:49:49.420949Z",
     "shell.execute_reply.started": "2022-05-30T12:49:48.940976Z"
    }
   },
   "outputs": [],
   "source": [
    "X_train = scaler.fit_transform(X_train)\n",
    "X_test = scaler.transform(X_test)"
   ]
  },
  {
   "cell_type": "code",
   "execution_count": 19,
   "metadata": {
    "execution": {
     "iopub.execute_input": "2022-05-30T12:49:49.423516Z",
     "iopub.status.busy": "2022-05-30T12:49:49.423027Z",
     "iopub.status.idle": "2022-05-30T12:49:49.427206Z",
     "shell.execute_reply": "2022-05-30T12:49:49.426348Z",
     "shell.execute_reply.started": "2022-05-30T12:49:49.423485Z"
    }
   },
   "outputs": [],
   "source": [
    "#PCA\n",
    "from sklearn.decomposition import PCA\n",
    "pca =PCA(n_components = 100)"
   ]
  },
  {
   "cell_type": "code",
   "execution_count": 20,
   "metadata": {
    "execution": {
     "iopub.execute_input": "2022-05-30T12:49:49.428889Z",
     "iopub.status.busy": "2022-05-30T12:49:49.428567Z",
     "iopub.status.idle": "2022-05-30T12:49:53.868956Z",
     "shell.execute_reply": "2022-05-30T12:49:53.867761Z",
     "shell.execute_reply.started": "2022-05-30T12:49:49.428861Z"
    }
   },
   "outputs": [],
   "source": [
    "X_train_trf = pca.fit_transform(X_train)\n",
    "X_test_trf = pca.fit_transform(X_test)"
   ]
  },
  {
   "cell_type": "code",
   "execution_count": 21,
   "metadata": {
    "execution": {
     "iopub.execute_input": "2022-05-30T12:49:53.872461Z",
     "iopub.status.busy": "2022-05-30T12:49:53.872007Z",
     "iopub.status.idle": "2022-05-30T12:49:53.879061Z",
     "shell.execute_reply": "2022-05-30T12:49:53.878391Z",
     "shell.execute_reply.started": "2022-05-30T12:49:53.872413Z"
    }
   },
   "outputs": [
    {
     "data": {
      "text/plain": [
       "(33600, 784)"
      ]
     },
     "execution_count": 21,
     "metadata": {},
     "output_type": "execute_result"
    }
   ],
   "source": [
    "X_train.shape"
   ]
  },
  {
   "cell_type": "code",
   "execution_count": 22,
   "metadata": {
    "execution": {
     "iopub.execute_input": "2022-05-30T12:49:53.881041Z",
     "iopub.status.busy": "2022-05-30T12:49:53.880201Z",
     "iopub.status.idle": "2022-05-30T12:49:53.89144Z",
     "shell.execute_reply": "2022-05-30T12:49:53.890788Z",
     "shell.execute_reply.started": "2022-05-30T12:49:53.881004Z"
    }
   },
   "outputs": [
    {
     "data": {
      "text/plain": [
       "(33600, 100)"
      ]
     },
     "execution_count": 22,
     "metadata": {},
     "output_type": "execute_result"
    }
   ],
   "source": [
    "X_train_trf.shape"
   ]
  },
  {
   "cell_type": "code",
   "execution_count": 23,
   "metadata": {
    "execution": {
     "iopub.execute_input": "2022-05-30T12:49:53.893139Z",
     "iopub.status.busy": "2022-05-30T12:49:53.892834Z",
     "iopub.status.idle": "2022-05-30T12:49:53.905222Z",
     "shell.execute_reply": "2022-05-30T12:49:53.903958Z",
     "shell.execute_reply.started": "2022-05-30T12:49:53.893111Z"
    }
   },
   "outputs": [
    {
     "data": {
      "text/plain": [
       "(8400, 784)"
      ]
     },
     "execution_count": 23,
     "metadata": {},
     "output_type": "execute_result"
    }
   ],
   "source": [
    "X_test.shape"
   ]
  },
  {
   "cell_type": "code",
   "execution_count": 24,
   "metadata": {
    "execution": {
     "iopub.execute_input": "2022-05-30T12:49:53.908327Z",
     "iopub.status.busy": "2022-05-30T12:49:53.907441Z",
     "iopub.status.idle": "2022-05-30T12:49:53.914401Z",
     "shell.execute_reply": "2022-05-30T12:49:53.913714Z",
     "shell.execute_reply.started": "2022-05-30T12:49:53.90828Z"
    }
   },
   "outputs": [],
   "source": [
    "knn = KNeighborsClassifier()"
   ]
  },
  {
   "cell_type": "code",
   "execution_count": 25,
   "metadata": {
    "execution": {
     "iopub.execute_input": "2022-05-30T12:49:53.916032Z",
     "iopub.status.busy": "2022-05-30T12:49:53.915744Z",
     "iopub.status.idle": "2022-05-30T12:49:53.935592Z",
     "shell.execute_reply": "2022-05-30T12:49:53.934777Z",
     "shell.execute_reply.started": "2022-05-30T12:49:53.916005Z"
    }
   },
   "outputs": [
    {
     "data": {
      "text/plain": [
       "KNeighborsClassifier()"
      ]
     },
     "execution_count": 25,
     "metadata": {},
     "output_type": "execute_result"
    }
   ],
   "source": [
    "knn.fit(X_train_trf,y_train)"
   ]
  },
  {
   "cell_type": "code",
   "execution_count": 26,
   "metadata": {
    "execution": {
     "iopub.execute_input": "2022-05-30T12:49:53.937146Z",
     "iopub.status.busy": "2022-05-30T12:49:53.936826Z",
     "iopub.status.idle": "2022-05-30T12:50:00.854556Z",
     "shell.execute_reply": "2022-05-30T12:50:00.853588Z",
     "shell.execute_reply.started": "2022-05-30T12:49:53.937119Z"
    }
   },
   "outputs": [],
   "source": [
    "y_pred = knn.predict(X_test_trf)"
   ]
  },
  {
   "cell_type": "code",
   "execution_count": 27,
   "metadata": {
    "execution": {
     "iopub.execute_input": "2022-05-30T12:50:00.856102Z",
     "iopub.status.busy": "2022-05-30T12:50:00.855785Z",
     "iopub.status.idle": "2022-05-30T12:50:00.863988Z",
     "shell.execute_reply": "2022-05-30T12:50:00.863082Z",
     "shell.execute_reply.started": "2022-05-30T12:50:00.856073Z"
    }
   },
   "outputs": [
    {
     "data": {
      "text/plain": [
       "0.1419047619047619"
      ]
     },
     "execution_count": 27,
     "metadata": {},
     "output_type": "execute_result"
    }
   ],
   "source": [
    "accuracy_score(y_test,y_pred)"
   ]
  },
  {
   "cell_type": "code",
   "execution_count": null,
   "metadata": {
    "execution": {
     "iopub.execute_input": "2022-05-30T12:50:00.865789Z",
     "iopub.status.busy": "2022-05-30T12:50:00.865196Z",
     "iopub.status.idle": "2022-05-30T12:51:11.494379Z",
     "shell.execute_reply": "2022-05-30T12:51:11.492572Z",
     "shell.execute_reply.started": "2022-05-30T12:50:00.865757Z"
    }
   },
   "outputs": [
    {
     "name": "stdout",
     "output_type": "stream",
     "text": [
      "0.10023809523809524\n",
      "0.0736904761904762\n",
      "0.10654761904761904\n",
      "0.11892857142857143\n",
      "0.1294047619047619\n",
      "0.13297619047619047\n",
      "0.13452380952380952\n",
      "0.1442857142857143\n",
      "0.11761904761904762\n",
      "0.14595238095238094\n",
      "0.15\n",
      "0.13642857142857143\n",
      "0.13535714285714287\n",
      "0.13726190476190475\n",
      "0.15654761904761905\n",
      "0.1457142857142857\n",
      "0.1467857142857143\n",
      "0.14821428571428572\n",
      "0.1525\n",
      "0.14952380952380953\n",
      "0.15892857142857142\n",
      "0.1605952380952381\n",
      "0.14785714285714285\n",
      "0.1586904761904762\n",
      "0.1626190476190476\n",
      "0.15023809523809523\n",
      "0.15738095238095237\n",
      "0.165\n",
      "0.15107142857142858\n",
      "0.16023809523809524\n",
      "0.1611904761904762\n",
      "0.15392857142857144\n",
      "0.15273809523809523\n",
      "0.15392857142857144\n",
      "0.15630952380952381\n",
      "0.15154761904761904\n",
      "0.15773809523809523\n",
      "0.15392857142857144\n",
      "0.15988095238095237\n",
      "0.15226190476190476\n",
      "0.15476190476190477\n",
      "0.15452380952380954\n",
      "0.15392857142857144\n",
      "0.15833333333333333\n",
      "0.15595238095238095\n",
      "0.14904761904761904\n",
      "0.15535714285714286\n",
      "0.15154761904761904\n",
      "0.15083333333333335\n",
      "0.1530952380952381\n",
      "0.1467857142857143\n",
      "0.1467857142857143\n",
      "0.14273809523809525\n",
      "0.1461904761904762\n",
      "0.15011904761904762\n",
      "0.15178571428571427\n",
      "0.14833333333333334\n",
      "0.14297619047619048\n",
      "0.14869047619047618\n",
      "0.1425\n",
      "0.14726190476190476\n",
      "0.14357142857142857\n",
      "0.15166666666666667\n",
      "0.13976190476190475\n",
      "0.1419047619047619\n",
      "0.14773809523809525\n",
      "0.1463095238095238\n",
      "0.1430952380952381\n",
      "0.14642857142857144\n",
      "0.14047619047619048\n",
      "0.14261904761904762\n",
      "0.14392857142857143\n",
      "0.14202380952380952\n",
      "0.1498809523809524\n",
      "0.14226190476190476\n",
      "0.1394047619047619\n",
      "0.14273809523809525\n",
      "0.1405952380952381\n",
      "0.13023809523809524\n",
      "0.1355952380952381\n",
      "0.1367857142857143\n",
      "0.13833333333333334\n",
      "0.14511904761904762\n",
      "0.1301190476190476\n",
      "0.14345238095238094\n",
      "0.14892857142857144\n",
      "0.14238095238095239\n",
      "0.14714285714285713\n",
      "0.14214285714285715\n",
      "0.14083333333333334\n",
      "0.13535714285714287\n",
      "0.14416666666666667\n",
      "0.13916666666666666\n",
      "0.13523809523809524\n",
      "0.1417857142857143\n",
      "0.1475\n",
      "0.14285714285714285\n",
      "0.1363095238095238\n",
      "0.14166666666666666\n",
      "0.14214285714285715\n",
      "0.14202380952380952\n",
      "0.14833333333333334\n",
      "0.13488095238095238\n",
      "0.14238095238095239\n",
      "0.14416666666666667\n",
      "0.14702380952380953\n",
      "0.14285714285714285\n",
      "0.14595238095238094\n",
      "0.1448809523809524\n",
      "0.14726190476190476\n",
      "0.14166666666666666\n",
      "0.14226190476190476\n",
      "0.1411904761904762\n",
      "0.14226190476190476\n",
      "0.14333333333333334\n",
      "0.1380952380952381\n",
      "0.14154761904761906\n",
      "0.13797619047619047\n",
      "0.14023809523809525\n",
      "0.14357142857142857\n",
      "0.14166666666666666\n",
      "0.14333333333333334\n",
      "0.13892857142857143\n",
      "0.14107142857142857\n",
      "0.14333333333333334\n",
      "0.1438095238095238\n",
      "0.13654761904761906\n",
      "0.1405952380952381\n",
      "0.1405952380952381\n",
      "0.14035714285714285\n",
      "0.13452380952380952\n",
      "0.13642857142857143\n",
      "0.1407142857142857\n",
      "0.14154761904761906\n",
      "0.14047619047619048\n",
      "0.13690476190476192\n",
      "0.1436904761904762\n",
      "0.13654761904761906\n",
      "0.13607142857142857\n",
      "0.1436904761904762\n",
      "0.13952380952380952\n",
      "0.13797619047619047\n",
      "0.14154761904761906\n",
      "0.1413095238095238\n",
      "0.1357142857142857\n",
      "0.13773809523809524\n",
      "0.14154761904761906\n",
      "0.1380952380952381\n",
      "0.13904761904761906\n",
      "0.1413095238095238\n",
      "0.13833333333333334\n",
      "0.14047619047619048\n",
      "0.14011904761904762\n",
      "0.13642857142857143\n",
      "0.14226190476190476\n",
      "0.1367857142857143\n",
      "0.13583333333333333\n",
      "0.14166666666666666\n",
      "0.1367857142857143\n",
      "0.13464285714285715\n",
      "0.1411904761904762\n",
      "0.13773809523809524\n",
      "0.13785714285714284\n",
      "0.13738095238095238\n",
      "0.13857142857142857\n",
      "0.13464285714285715\n",
      "0.14095238095238094\n",
      "0.1380952380952381\n",
      "0.1394047619047619\n",
      "0.13488095238095238\n",
      "0.13690476190476192\n",
      "0.13583333333333333\n",
      "0.13642857142857143\n",
      "0.1361904761904762\n",
      "0.13523809523809524\n",
      "0.13702380952380952\n",
      "0.13702380952380952\n",
      "0.1367857142857143\n",
      "0.13642857142857143\n",
      "0.13464285714285715\n",
      "0.13535714285714287\n",
      "0.13833333333333334\n",
      "0.1357142857142857\n",
      "0.13666666666666666\n",
      "0.13690476190476192\n",
      "0.1367857142857143\n",
      "0.1355952380952381\n",
      "0.14\n",
      "0.1351190476190476\n",
      "0.13452380952380952\n",
      "0.13297619047619047\n",
      "0.1330952380952381\n",
      "0.13595238095238096\n",
      "0.13476190476190475\n",
      "0.13535714285714287\n",
      "0.13702380952380952\n",
      "0.13738095238095238\n",
      "0.13273809523809524\n",
      "0.13583333333333333\n",
      "0.13273809523809524\n",
      "0.1355952380952381\n",
      "0.13178571428571428\n",
      "0.13416666666666666\n",
      "0.13857142857142857\n",
      "0.13380952380952382\n",
      "0.1332142857142857\n",
      "0.13464285714285715\n",
      "0.13285714285714287\n",
      "0.1336904761904762\n",
      "0.13357142857142856\n",
      "0.12928571428571428\n",
      "0.13547619047619047\n",
      "0.1311904761904762\n",
      "0.13440476190476192\n",
      "0.13238095238095238\n",
      "0.13178571428571428\n",
      "0.1332142857142857\n",
      "0.13178571428571428\n",
      "0.12928571428571428\n",
      "0.13154761904761905\n",
      "0.13142857142857142\n",
      "0.13166666666666665\n",
      "0.13130952380952382\n",
      "0.13142857142857142\n",
      "0.13107142857142856\n",
      "0.13380952380952382\n",
      "0.13166666666666665\n",
      "0.13273809523809524\n",
      "0.13023809523809524\n",
      "0.13226190476190477\n",
      "0.12833333333333333\n",
      "0.13047619047619047\n",
      "0.1301190476190476\n",
      "0.12880952380952382\n",
      "0.12916666666666668\n",
      "0.12988095238095237\n",
      "0.13107142857142856\n",
      "0.12845238095238096\n",
      "0.12916666666666668\n",
      "0.1294047619047619\n",
      "0.12821428571428573\n",
      "0.12761904761904763\n",
      "0.1261904761904762\n",
      "0.13404761904761905\n",
      "0.12880952380952382\n",
      "0.1286904761904762\n",
      "0.1286904761904762\n",
      "0.13035714285714287\n",
      "0.12785714285714286\n",
      "0.1280952380952381\n",
      "0.1294047619047619\n",
      "0.12642857142857142\n",
      "0.12797619047619047\n",
      "0.13047619047619047\n",
      "0.12761904761904763\n",
      "0.12642857142857142\n",
      "0.12523809523809523\n",
      "0.12988095238095237\n",
      "0.13035714285714287\n",
      "0.12892857142857142\n",
      "0.12821428571428573\n",
      "0.12607142857142858\n",
      "0.12761904761904763\n",
      "0.12892857142857142\n",
      "0.12714285714285714\n",
      "0.12880952380952382\n",
      "0.12535714285714286\n",
      "0.1275\n",
      "0.13142857142857142\n",
      "0.12654761904761905\n",
      "0.12630952380952382\n",
      "0.12595238095238095\n",
      "0.12761904761904763\n",
      "0.12595238095238095\n",
      "0.12630952380952382\n",
      "0.12642857142857142\n",
      "0.1270238095238095\n",
      "0.12595238095238095\n",
      "0.12523809523809523\n",
      "0.12547619047619046\n",
      "0.12285714285714286\n",
      "0.12464285714285714\n",
      "0.12797619047619047\n",
      "0.12535714285714286\n",
      "0.12416666666666666\n",
      "0.12321428571428572\n",
      "0.12547619047619046\n",
      "0.12547619047619046\n",
      "0.12309523809523809\n",
      "0.12380952380952381\n",
      "0.12523809523809523\n",
      "0.12321428571428572\n",
      "0.1244047619047619\n",
      "0.1244047619047619\n",
      "0.12476190476190477\n",
      "0.12285714285714286\n",
      "0.12476190476190477\n",
      "0.12273809523809524\n",
      "0.12261904761904761\n",
      "0.12428571428571429\n",
      "0.12178571428571429\n",
      "0.1211904761904762\n",
      "0.12714285714285714\n",
      "0.125\n",
      "0.12166666666666667\n",
      "0.12226190476190477\n",
      "0.12511904761904763\n",
      "0.12238095238095238\n",
      "0.12095238095238095\n",
      "0.12416666666666666\n",
      "0.12321428571428572\n",
      "0.12333333333333334\n",
      "0.12285714285714286\n",
      "0.12285714285714286\n",
      "0.12071428571428572\n",
      "0.12273809523809524\n",
      "0.12380952380952381\n",
      "0.12321428571428572\n",
      "0.12369047619047618\n",
      "0.12333333333333334\n",
      "0.12142857142857143\n",
      "0.1225\n",
      "0.12202380952380952\n",
      "0.12107142857142857\n",
      "0.12059523809523809\n",
      "0.12345238095238095\n",
      "0.12214285714285714\n",
      "0.12261904761904761\n",
      "0.12321428571428572\n",
      "0.11988095238095238\n",
      "0.12273809523809524\n",
      "0.12130952380952381\n",
      "0.12202380952380952\n",
      "0.12142857142857143\n",
      "0.1244047619047619\n",
      "0.12107142857142857\n",
      "0.12345238095238095\n",
      "0.11976190476190476\n",
      "0.12214285714285714\n",
      "0.12214285714285714\n",
      "0.12297619047619048\n",
      "0.12285714285714286\n",
      "0.12142857142857143\n",
      "0.12142857142857143\n",
      "0.1225\n",
      "0.12071428571428572\n",
      "0.12357142857142857\n",
      "0.12214285714285714\n",
      "0.12238095238095238\n",
      "0.1225\n",
      "0.12107142857142857\n",
      "0.12166666666666667\n",
      "0.12023809523809524\n",
      "0.11988095238095238\n",
      "0.12154761904761904\n",
      "0.12226190476190477\n",
      "0.12071428571428572\n",
      "0.12142857142857143\n",
      "0.1194047619047619\n",
      "0.12202380952380952\n",
      "0.12023809523809524\n",
      "0.12142857142857143\n",
      "0.12154761904761904\n",
      "0.12011904761904763\n",
      "0.12226190476190477\n",
      "0.12202380952380952\n",
      "0.11964285714285715\n",
      "0.12261904761904761\n",
      "0.12095238095238095\n",
      "0.12273809523809524\n",
      "0.12023809523809524\n",
      "0.1219047619047619\n",
      "0.12238095238095238\n",
      "0.12035714285714286\n",
      "0.12142857142857143\n",
      "0.12214285714285714\n",
      "0.11845238095238095\n",
      "0.11952380952380952\n",
      "0.12083333333333333\n",
      "0.12107142857142857\n",
      "0.11892857142857143\n",
      "0.12035714285714286\n",
      "0.11976190476190476\n",
      "0.11988095238095238\n",
      "0.1194047619047619\n",
      "0.12011904761904763\n",
      "0.12142857142857143\n",
      "0.1186904761904762\n",
      "0.1211904761904762\n",
      "0.11880952380952381\n",
      "0.12214285714285714\n",
      "0.11916666666666667\n",
      "0.12071428571428572\n",
      "0.12023809523809524\n",
      "0.12059523809523809\n",
      "0.12095238095238095\n",
      "0.12083333333333333\n",
      "0.11964285714285715\n",
      "0.11928571428571429\n",
      "0.1194047619047619\n",
      "0.12071428571428572\n",
      "0.12107142857142857\n",
      "0.12107142857142857\n",
      "0.11964285714285715\n",
      "0.12\n",
      "0.11988095238095238\n",
      "0.11880952380952381\n",
      "0.12071428571428572\n",
      "0.12142857142857143\n",
      "0.1175\n",
      "0.11916666666666667\n",
      "0.12095238095238095\n",
      "0.1194047619047619\n",
      "0.11904761904761904\n",
      "0.11773809523809524\n",
      "0.12035714285714286\n",
      "0.11976190476190476\n",
      "0.11964285714285715\n",
      "0.11952380952380952\n",
      "0.1194047619047619\n",
      "0.12011904761904763\n",
      "0.11773809523809524\n",
      "0.11988095238095238\n"
     ]
    },
    {
     "name": "stdout",
     "output_type": "stream",
     "text": [
      "0.1211904761904762\n",
      "0.11928571428571429\n",
      "0.12083333333333333\n",
      "0.11833333333333333\n",
      "0.1194047619047619\n",
      "0.12059523809523809\n",
      "0.12083333333333333\n",
      "0.11916666666666667\n",
      "0.11988095238095238\n",
      "0.11845238095238095\n",
      "0.11892857142857143\n",
      "0.1194047619047619\n",
      "0.12059523809523809\n",
      "0.12\n",
      "0.1175\n",
      "0.12154761904761904\n",
      "0.11976190476190476\n",
      "0.12047619047619047\n",
      "0.12\n",
      "0.12\n",
      "0.11904761904761904\n",
      "0.12011904761904763\n",
      "0.11880952380952381\n",
      "0.12011904761904763\n",
      "0.1194047619047619\n",
      "0.11797619047619047\n",
      "0.1186904761904762\n",
      "0.11821428571428572\n",
      "0.11904761904761904\n",
      "0.11916666666666667\n",
      "0.11892857142857143\n",
      "0.11857142857142858\n",
      "0.11880952380952381\n",
      "0.11821428571428572\n",
      "0.12011904761904763\n",
      "0.1186904761904762\n",
      "0.12035714285714286\n",
      "0.11976190476190476\n",
      "0.11785714285714285\n",
      "0.11928571428571429\n",
      "0.11952380952380952\n",
      "0.11773809523809524\n",
      "0.11880952380952381\n",
      "0.11714285714285715\n",
      "0.11892857142857143\n",
      "0.11964285714285715\n",
      "0.11857142857142858\n",
      "0.1186904761904762\n",
      "0.11892857142857143\n",
      "0.12011904761904763\n",
      "0.11892857142857143\n",
      "0.11773809523809524\n",
      "0.1194047619047619\n",
      "0.1175\n",
      "0.11976190476190476\n",
      "0.1186904761904762\n",
      "0.1180952380952381\n",
      "0.11833333333333333\n",
      "0.11797619047619047\n",
      "0.11797619047619047\n",
      "0.11821428571428572\n",
      "0.11976190476190476\n",
      "0.11928571428571429\n",
      "0.11702380952380953\n",
      "0.11845238095238095\n",
      "0.11821428571428572\n",
      "0.11773809523809524\n",
      "0.11845238095238095\n",
      "0.11845238095238095\n",
      "0.11797619047619047\n",
      "0.11773809523809524\n",
      "0.11642857142857142\n",
      "0.11916666666666667\n",
      "0.11726190476190476\n",
      "0.11892857142857143\n",
      "0.11797619047619047\n",
      "0.11738095238095238\n",
      "0.11797619047619047\n",
      "0.11785714285714285\n",
      "0.11785714285714285\n",
      "0.11833333333333333\n",
      "0.11857142857142858\n",
      "0.11761904761904762\n",
      "0.1186904761904762\n",
      "0.11845238095238095\n",
      "0.11928571428571429\n",
      "0.11785714285714285\n",
      "0.11821428571428572\n",
      "0.11845238095238095\n",
      "0.11833333333333333\n",
      "0.11785714285714285\n",
      "0.11761904761904762\n",
      "0.11904761904761904\n",
      "0.11928571428571429\n",
      "0.11761904761904762\n",
      "0.1180952380952381\n",
      "0.11785714285714285\n",
      "0.11773809523809524\n",
      "0.1180952380952381\n",
      "0.11797619047619047\n",
      "0.11797619047619047\n",
      "0.11785714285714285\n",
      "0.11702380952380953\n",
      "0.11726190476190476\n",
      "0.11726190476190476\n",
      "0.11785714285714285\n",
      "0.11833333333333333\n",
      "0.1175\n",
      "0.11857142857142858\n",
      "0.11738095238095238\n",
      "0.11880952380952381\n",
      "0.1169047619047619\n",
      "0.11678571428571428\n",
      "0.11821428571428572\n",
      "0.11761904761904762\n",
      "0.11821428571428572\n",
      "0.11726190476190476\n",
      "0.11666666666666667\n",
      "0.11797619047619047\n",
      "0.11916666666666667\n",
      "0.11821428571428572\n",
      "0.11714285714285715\n",
      "0.11714285714285715\n",
      "0.11666666666666667\n",
      "0.11726190476190476\n",
      "0.11773809523809524\n",
      "0.11761904761904762\n",
      "0.11726190476190476\n",
      "0.11761904761904762\n",
      "0.11654761904761905\n",
      "0.11738095238095238\n",
      "0.11714285714285715\n",
      "0.11702380952380953\n",
      "0.11702380952380953\n",
      "0.11666666666666667\n",
      "0.11702380952380953\n",
      "0.11761904761904762\n",
      "0.11785714285714285\n",
      "0.11607142857142858\n",
      "0.11642857142857142\n",
      "0.11904761904761904\n",
      "0.11761904761904762\n",
      "0.1186904761904762\n",
      "0.1180952380952381\n",
      "0.11773809523809524\n",
      "0.1175\n",
      "0.11857142857142858\n",
      "0.11785714285714285\n",
      "0.11666666666666667\n",
      "0.11797619047619047\n",
      "0.1180952380952381\n",
      "0.11821428571428572\n",
      "0.11821428571428572\n",
      "0.1180952380952381\n",
      "0.11678571428571428\n",
      "0.1175\n",
      "0.11702380952380953\n"
     ]
    }
   ],
   "source": [
    "for i in range(1,785):\n",
    "    pca =PCA(n_components = i )\n",
    "    X_train_trf = pca.fit_transform(X_train)\n",
    "    X_test_trf = pca.fit_transform(X_test)\n",
    "    \n",
    "    knn = KNeighborsClassifier()\n",
    "    \n",
    "    knn.fit(X_train_trf,y_train)\n",
    "    \n",
    "    y_pred = knn.predict(X_test_trf)\n",
    "    \n",
    "    print(accuracy_score(y_test,y_pred))"
   ]
  },
  {
   "cell_type": "code",
   "execution_count": null,
   "metadata": {
    "execution": {
     "iopub.execute_input": "2022-05-30T12:51:16.331615Z",
     "iopub.status.busy": "2022-05-30T12:51:16.330807Z",
     "iopub.status.idle": "2022-05-30T12:51:19.60038Z",
     "shell.execute_reply": "2022-05-30T12:51:19.599164Z",
     "shell.execute_reply.started": "2022-05-30T12:51:16.331566Z"
    }
   },
   "outputs": [],
   "source": [
    "#transformating to 2d coordinate system \n",
    "pca =PCA(n_components = 2 )\n",
    "X_train_trf = pca.fit_transform(X_train)\n",
    "X_test_trf = pca.fit_transform(X_test)"
   ]
  },
  {
   "cell_type": "code",
   "execution_count": null,
   "metadata": {
    "execution": {
     "iopub.execute_input": "2022-05-30T12:51:19.604974Z",
     "iopub.status.busy": "2022-05-30T12:51:19.602618Z",
     "iopub.status.idle": "2022-05-30T12:51:19.617373Z",
     "shell.execute_reply": "2022-05-30T12:51:19.616306Z",
     "shell.execute_reply.started": "2022-05-30T12:51:19.604924Z"
    }
   },
   "outputs": [],
   "source": [
    "X_train_trf"
   ]
  },
  {
   "cell_type": "code",
   "execution_count": null,
   "metadata": {
    "execution": {
     "iopub.execute_input": "2022-05-30T12:51:19.621915Z",
     "iopub.status.busy": "2022-05-30T12:51:19.619942Z",
     "iopub.status.idle": "2022-05-30T12:51:22.368265Z",
     "shell.execute_reply": "2022-05-30T12:51:22.366545Z",
     "shell.execute_reply.started": "2022-05-30T12:51:19.621865Z"
    }
   },
   "outputs": [],
   "source": [
    "import plotly.express as px\n",
    "y_train_trf = y_train.astype(str)\n",
    "fig  = px.scatter(x=X_train_trf[:,0],\n",
    "                 y = X_train_trf[:,1],\n",
    "                 color = y_train_trf,\n",
    "                 color_discrete_sequence=px.colors.qualitative.G10)\n",
    "\n",
    "fig.show()"
   ]
  },
  {
   "cell_type": "code",
   "execution_count": null,
   "metadata": {
    "execution": {
     "iopub.execute_input": "2022-05-30T12:51:22.37065Z",
     "iopub.status.busy": "2022-05-30T12:51:22.370313Z",
     "iopub.status.idle": "2022-05-30T12:51:26.203904Z",
     "shell.execute_reply": "2022-05-30T12:51:26.202645Z",
     "shell.execute_reply.started": "2022-05-30T12:51:22.370621Z"
    }
   },
   "outputs": [],
   "source": [
    "#transformating to 3d\n",
    "pca =PCA(n_components = 3 )\n",
    "X_train_trf = pca.fit_transform(X_train)\n",
    "X_test_trf = pca.fit_transform(X_test)"
   ]
  },
  {
   "cell_type": "code",
   "execution_count": null,
   "metadata": {
    "execution": {
     "iopub.execute_input": "2022-05-30T12:51:26.208022Z",
     "iopub.status.busy": "2022-05-30T12:51:26.2062Z",
     "iopub.status.idle": "2022-05-30T12:51:26.222945Z",
     "shell.execute_reply": "2022-05-30T12:51:26.22156Z",
     "shell.execute_reply.started": "2022-05-30T12:51:26.207971Z"
    }
   },
   "outputs": [],
   "source": [
    "X_train_trf"
   ]
  },
  {
   "cell_type": "code",
   "execution_count": null,
   "metadata": {
    "execution": {
     "iopub.execute_input": "2022-05-30T12:51:26.224977Z",
     "iopub.status.busy": "2022-05-30T12:51:26.224248Z",
     "iopub.status.idle": "2022-05-30T12:51:26.511117Z",
     "shell.execute_reply": "2022-05-30T12:51:26.510181Z",
     "shell.execute_reply.started": "2022-05-30T12:51:26.224942Z"
    }
   },
   "outputs": [],
   "source": [
    "y_train_trf = y_train.astype(str)\n",
    "fig = px.scatter_3d(df,x=X_train_trf[:,0],y=X_train_trf[:,1],z=X_train_trf[:,2],\n",
    "                   color=y_train_trf)\n",
    "fig.update_layout(margin=dict(l=20, t=20, b=20))\n",
    "\n",
    "fig.show()"
   ]
  },
  {
   "cell_type": "code",
   "execution_count": null,
   "metadata": {
    "execution": {
     "iopub.execute_input": "2022-05-30T12:51:26.512993Z",
     "iopub.status.busy": "2022-05-30T12:51:26.512143Z",
     "iopub.status.idle": "2022-05-30T12:51:26.518367Z",
     "shell.execute_reply": "2022-05-30T12:51:26.517738Z",
     "shell.execute_reply.started": "2022-05-30T12:51:26.512959Z"
    }
   },
   "outputs": [],
   "source": [
    "pca.explained_variance_\n",
    "#Eigen values"
   ]
  },
  {
   "cell_type": "code",
   "execution_count": null,
   "metadata": {
    "execution": {
     "iopub.execute_input": "2022-05-30T12:51:26.520215Z",
     "iopub.status.busy": "2022-05-30T12:51:26.519348Z",
     "iopub.status.idle": "2022-05-30T12:51:26.531935Z",
     "shell.execute_reply": "2022-05-30T12:51:26.53116Z",
     "shell.execute_reply.started": "2022-05-30T12:51:26.520185Z"
    }
   },
   "outputs": [],
   "source": [
    "pca.components_\n",
    "#Eigen vectors"
   ]
  },
  {
   "cell_type": "code",
   "execution_count": null,
   "metadata": {
    "execution": {
     "iopub.execute_input": "2022-05-30T12:51:26.533859Z",
     "iopub.status.busy": "2022-05-30T12:51:26.533009Z",
     "iopub.status.idle": "2022-05-30T12:51:26.54431Z",
     "shell.execute_reply": "2022-05-30T12:51:26.543306Z",
     "shell.execute_reply.started": "2022-05-30T12:51:26.533826Z"
    }
   },
   "outputs": [],
   "source": [
    "pca.components_.shape\n",
    "#Eigen vectors shape"
   ]
  },
  {
   "cell_type": "code",
   "execution_count": null,
   "metadata": {
    "execution": {
     "iopub.execute_input": "2022-05-30T12:52:33.273952Z",
     "iopub.status.busy": "2022-05-30T12:52:33.273205Z",
     "iopub.status.idle": "2022-05-30T12:52:33.281266Z",
     "shell.execute_reply": "2022-05-30T12:52:33.280103Z",
     "shell.execute_reply.started": "2022-05-30T12:52:33.27391Z"
    }
   },
   "outputs": [],
   "source": [
    "pca.explained_variance_ratio_"
   ]
  },
  {
   "cell_type": "code",
   "execution_count": null,
   "metadata": {
    "execution": {
     "iopub.execute_input": "2022-05-30T12:52:36.929483Z",
     "iopub.status.busy": "2022-05-30T12:52:36.928858Z",
     "iopub.status.idle": "2022-05-30T12:52:41.448293Z",
     "shell.execute_reply": "2022-05-30T12:52:41.447167Z",
     "shell.execute_reply.started": "2022-05-30T12:52:36.929432Z"
    }
   },
   "outputs": [],
   "source": [
    "pca =PCA(n_components =None)\n",
    "X_train_trf = pca.fit_transform(X_train)\n",
    "X_test_trf = pca.transform(X_test)"
   ]
  },
  {
   "cell_type": "code",
   "execution_count": null,
   "metadata": {
    "execution": {
     "iopub.execute_input": "2022-05-30T12:53:11.242038Z",
     "iopub.status.busy": "2022-05-30T12:53:11.241589Z",
     "iopub.status.idle": "2022-05-30T12:53:11.2589Z",
     "shell.execute_reply": "2022-05-30T12:53:11.25797Z",
     "shell.execute_reply.started": "2022-05-30T12:53:11.242007Z"
    }
   },
   "outputs": [],
   "source": [
    "pca.explained_variance_"
   ]
  },
  {
   "cell_type": "code",
   "execution_count": null,
   "metadata": {
    "execution": {
     "iopub.execute_input": "2022-05-30T12:53:36.52347Z",
     "iopub.status.busy": "2022-05-30T12:53:36.52308Z",
     "iopub.status.idle": "2022-05-30T12:53:36.529585Z",
     "shell.execute_reply": "2022-05-30T12:53:36.528927Z",
     "shell.execute_reply.started": "2022-05-30T12:53:36.52344Z"
    }
   },
   "outputs": [],
   "source": [
    "pca.explained_variance_.shape"
   ]
  },
  {
   "cell_type": "code",
   "execution_count": null,
   "metadata": {
    "execution": {
     "iopub.execute_input": "2022-05-30T12:53:53.465256Z",
     "iopub.status.busy": "2022-05-30T12:53:53.464479Z",
     "iopub.status.idle": "2022-05-30T12:53:53.471622Z",
     "shell.execute_reply": "2022-05-30T12:53:53.470748Z",
     "shell.execute_reply.started": "2022-05-30T12:53:53.465214Z"
    }
   },
   "outputs": [],
   "source": [
    "pca.components_.shape"
   ]
  },
  {
   "cell_type": "code",
   "execution_count": null,
   "metadata": {
    "execution": {
     "iopub.execute_input": "2022-05-30T12:54:18.197693Z",
     "iopub.status.busy": "2022-05-30T12:54:18.196776Z",
     "iopub.status.idle": "2022-05-30T12:54:18.213766Z",
     "shell.execute_reply": "2022-05-30T12:54:18.212927Z",
     "shell.execute_reply.started": "2022-05-30T12:54:18.19764Z"
    }
   },
   "outputs": [],
   "source": [
    "pca.explained_variance_ratio_"
   ]
  },
  {
   "cell_type": "code",
   "execution_count": null,
   "metadata": {
    "execution": {
     "iopub.execute_input": "2022-05-30T12:55:22.547953Z",
     "iopub.status.busy": "2022-05-30T12:55:22.547569Z",
     "iopub.status.idle": "2022-05-30T12:55:22.566085Z",
     "shell.execute_reply": "2022-05-30T12:55:22.565203Z",
     "shell.execute_reply.started": "2022-05-30T12:55:22.547923Z"
    }
   },
   "outputs": [],
   "source": [
    "np.cumsum(pca.explained_variance_ratio_)"
   ]
  },
  {
   "cell_type": "code",
   "execution_count": null,
   "metadata": {
    "execution": {
     "iopub.execute_input": "2022-05-30T12:56:03.811726Z",
     "iopub.status.busy": "2022-05-30T12:56:03.8113Z",
     "iopub.status.idle": "2022-05-30T12:56:03.945377Z",
     "shell.execute_reply": "2022-05-30T12:56:03.944454Z",
     "shell.execute_reply.started": "2022-05-30T12:56:03.811681Z"
    }
   },
   "outputs": [],
   "source": [
    "plt.plot(np.cumsum(pca.explained_variance_ratio_))"
   ]
  },
  {
   "cell_type": "code",
   "execution_count": null,
   "metadata": {},
   "outputs": [],
   "source": []
  }
 ],
 "metadata": {
  "kernelspec": {
   "display_name": "Python 3 (ipykernel)",
   "language": "python",
   "name": "python3"
  },
  "language_info": {
   "codemirror_mode": {
    "name": "ipython",
    "version": 3
   },
   "file_extension": ".py",
   "mimetype": "text/x-python",
   "name": "python",
   "nbconvert_exporter": "python",
   "pygments_lexer": "ipython3",
   "version": "3.9.7"
  }
 },
 "nbformat": 4,
 "nbformat_minor": 4
}
